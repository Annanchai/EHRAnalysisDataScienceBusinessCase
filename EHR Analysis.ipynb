{
 "cells": [
  {
   "cell_type": "markdown",
   "id": "5289285e",
   "metadata": {},
   "source": [
    "# Comprehensive Analysis of Electronic Health Record Data using Python"
   ]
  },
  {
   "cell_type": "code",
   "execution_count": 275,
   "id": "2ea6e210",
   "metadata": {},
   "outputs": [],
   "source": [
    "# Importing the required libraries\n",
    "import numpy as np\n",
    "import pandas as pd\n",
    "import matplotlib.pyplot as plt\n",
    "import seaborn as sns\n",
    "from datetime import date\n",
    "from scipy.stats import chi2_contingency"
   ]
  },
  {
   "cell_type": "markdown",
   "id": "7ea34719",
   "metadata": {},
   "source": [
    "## Basic Analysis and understanding of the data"
   ]
  },
  {
   "cell_type": "code",
   "execution_count": 2,
   "id": "1c17720e",
   "metadata": {},
   "outputs": [],
   "source": [
    "# Load the datasets\n",
    "patients = pd.read_csv(r\"D:\\DSML class\\Real world data assignments\\Python\\EHR Analysis\\Data\\PATIENTS.csv\")\n",
    "admissions = pd.read_csv(r\"D:\\DSML class\\Real world data assignments\\Python\\EHR Analysis\\Data\\ADMISSIONS.csv\")\n",
    "diagnosis = pd.read_csv(r\"D:\\DSML class\\Real world data assignments\\Python\\EHR Analysis\\Data\\DIAGNOSES_ICD.csv\")\n",
    "icd = pd.read_csv(r\"D:\\DSML class\\Real world data assignments\\Python\\EHR Analysis\\Data\\D_ICD_DIAGNOSES.csv\")"
   ]
  },
  {
   "cell_type": "markdown",
   "id": "0d954cbe",
   "metadata": {},
   "source": [
    "## Observation of the data"
   ]
  },
  {
   "cell_type": "code",
   "execution_count": 3,
   "id": "01c6b60a",
   "metadata": {},
   "outputs": [
    {
     "name": "stdout",
     "output_type": "stream",
     "text": [
      "\n",
      "First five rows of the Patients table\n"
     ]
    },
    {
     "data": {
      "text/html": [
       "<div>\n",
       "<style scoped>\n",
       "    .dataframe tbody tr th:only-of-type {\n",
       "        vertical-align: middle;\n",
       "    }\n",
       "\n",
       "    .dataframe tbody tr th {\n",
       "        vertical-align: top;\n",
       "    }\n",
       "\n",
       "    .dataframe thead th {\n",
       "        text-align: right;\n",
       "    }\n",
       "</style>\n",
       "<table border=\"1\" class=\"dataframe\">\n",
       "  <thead>\n",
       "    <tr style=\"text-align: right;\">\n",
       "      <th></th>\n",
       "      <th>row_id</th>\n",
       "      <th>subject_id</th>\n",
       "      <th>gender</th>\n",
       "      <th>dob</th>\n",
       "    </tr>\n",
       "  </thead>\n",
       "  <tbody>\n",
       "    <tr>\n",
       "      <th>0</th>\n",
       "      <td>9467</td>\n",
       "      <td>10006</td>\n",
       "      <td>F</td>\n",
       "      <td>2094-03-05 0:00:00</td>\n",
       "    </tr>\n",
       "    <tr>\n",
       "      <th>1</th>\n",
       "      <td>9472</td>\n",
       "      <td>10011</td>\n",
       "      <td>F</td>\n",
       "      <td>2090-06-05 0:00:00</td>\n",
       "    </tr>\n",
       "    <tr>\n",
       "      <th>2</th>\n",
       "      <td>9474</td>\n",
       "      <td>10013</td>\n",
       "      <td>F</td>\n",
       "      <td>2038-09-03 0:00:00</td>\n",
       "    </tr>\n",
       "    <tr>\n",
       "      <th>3</th>\n",
       "      <td>9478</td>\n",
       "      <td>10017</td>\n",
       "      <td>F</td>\n",
       "      <td>2075-09-21 0:00:00</td>\n",
       "    </tr>\n",
       "    <tr>\n",
       "      <th>4</th>\n",
       "      <td>9479</td>\n",
       "      <td>10019</td>\n",
       "      <td>M</td>\n",
       "      <td>2114-06-20 0:00:00</td>\n",
       "    </tr>\n",
       "  </tbody>\n",
       "</table>\n",
       "</div>"
      ],
      "text/plain": [
       "   row_id  subject_id gender                 dob\n",
       "0    9467       10006      F  2094-03-05 0:00:00\n",
       "1    9472       10011      F  2090-06-05 0:00:00\n",
       "2    9474       10013      F  2038-09-03 0:00:00\n",
       "3    9478       10017      F  2075-09-21 0:00:00\n",
       "4    9479       10019      M  2114-06-20 0:00:00"
      ]
     },
     "execution_count": 3,
     "metadata": {},
     "output_type": "execute_result"
    }
   ],
   "source": [
    "print('\\nFirst five rows of the Patients table')\n",
    "patients.head(5)"
   ]
  },
  {
   "cell_type": "code",
   "execution_count": 4,
   "id": "f716f6e0",
   "metadata": {},
   "outputs": [
    {
     "data": {
      "text/plain": [
       "(100, 4)"
      ]
     },
     "execution_count": 4,
     "metadata": {},
     "output_type": "execute_result"
    }
   ],
   "source": [
    "patients.shape"
   ]
  },
  {
   "cell_type": "code",
   "execution_count": 5,
   "id": "051500ca",
   "metadata": {},
   "outputs": [
    {
     "name": "stdout",
     "output_type": "stream",
     "text": [
      "\n",
      "First five rows of the Admissions table\n"
     ]
    },
    {
     "data": {
      "text/html": [
       "<div>\n",
       "<style scoped>\n",
       "    .dataframe tbody tr th:only-of-type {\n",
       "        vertical-align: middle;\n",
       "    }\n",
       "\n",
       "    .dataframe tbody tr th {\n",
       "        vertical-align: top;\n",
       "    }\n",
       "\n",
       "    .dataframe thead th {\n",
       "        text-align: right;\n",
       "    }\n",
       "</style>\n",
       "<table border=\"1\" class=\"dataframe\">\n",
       "  <thead>\n",
       "    <tr style=\"text-align: right;\">\n",
       "      <th></th>\n",
       "      <th>row_id</th>\n",
       "      <th>subject_id</th>\n",
       "      <th>hadm_id</th>\n",
       "      <th>admittime</th>\n",
       "      <th>dischtime</th>\n",
       "      <th>deathtime</th>\n",
       "      <th>admission_type</th>\n",
       "      <th>admission_location</th>\n",
       "      <th>insurance</th>\n",
       "      <th>language</th>\n",
       "      <th>religion</th>\n",
       "      <th>marital_status</th>\n",
       "      <th>ethnicity</th>\n",
       "      <th>edregtime</th>\n",
       "      <th>edouttime</th>\n",
       "      <th>diagnosis</th>\n",
       "      <th>hospital_expire_flag</th>\n",
       "    </tr>\n",
       "  </thead>\n",
       "  <tbody>\n",
       "    <tr>\n",
       "      <th>0</th>\n",
       "      <td>12258</td>\n",
       "      <td>10006</td>\n",
       "      <td>142345</td>\n",
       "      <td>2164-10-23 21:09:00</td>\n",
       "      <td>2164-11-01 17:15:00</td>\n",
       "      <td>NaN</td>\n",
       "      <td>EMERGENCY</td>\n",
       "      <td>EMERGENCY ROOM ADMIT</td>\n",
       "      <td>Medicare</td>\n",
       "      <td>NaN</td>\n",
       "      <td>CATHOLIC</td>\n",
       "      <td>SEPARATED</td>\n",
       "      <td>BLACK/AFRICAN AMERICAN</td>\n",
       "      <td>2164-10-23 16:43:00</td>\n",
       "      <td>2164-10-23 23:00:00</td>\n",
       "      <td>SEPSIS</td>\n",
       "      <td>0</td>\n",
       "    </tr>\n",
       "    <tr>\n",
       "      <th>1</th>\n",
       "      <td>12263</td>\n",
       "      <td>10011</td>\n",
       "      <td>105331</td>\n",
       "      <td>2126-08-14 22:32:00</td>\n",
       "      <td>2126-08-28 18:59:00</td>\n",
       "      <td>2126-08-28 18:59:00</td>\n",
       "      <td>EMERGENCY</td>\n",
       "      <td>TRANSFER FROM HOSP/EXTRAM</td>\n",
       "      <td>Private</td>\n",
       "      <td>NaN</td>\n",
       "      <td>CATHOLIC</td>\n",
       "      <td>SINGLE</td>\n",
       "      <td>UNKNOWN/NOT SPECIFIED</td>\n",
       "      <td>NaN</td>\n",
       "      <td>NaN</td>\n",
       "      <td>HEPATITIS B</td>\n",
       "      <td>1</td>\n",
       "    </tr>\n",
       "    <tr>\n",
       "      <th>2</th>\n",
       "      <td>12265</td>\n",
       "      <td>10013</td>\n",
       "      <td>165520</td>\n",
       "      <td>2125-10-04 23:36:00</td>\n",
       "      <td>2125-10-07 15:13:00</td>\n",
       "      <td>2125-10-07 15:13:00</td>\n",
       "      <td>EMERGENCY</td>\n",
       "      <td>TRANSFER FROM HOSP/EXTRAM</td>\n",
       "      <td>Medicare</td>\n",
       "      <td>NaN</td>\n",
       "      <td>CATHOLIC</td>\n",
       "      <td>NaN</td>\n",
       "      <td>UNKNOWN/NOT SPECIFIED</td>\n",
       "      <td>NaN</td>\n",
       "      <td>NaN</td>\n",
       "      <td>SEPSIS</td>\n",
       "      <td>1</td>\n",
       "    </tr>\n",
       "    <tr>\n",
       "      <th>3</th>\n",
       "      <td>12269</td>\n",
       "      <td>10017</td>\n",
       "      <td>199207</td>\n",
       "      <td>2149-05-26 17:19:00</td>\n",
       "      <td>2149-06-03 18:42:00</td>\n",
       "      <td>NaN</td>\n",
       "      <td>EMERGENCY</td>\n",
       "      <td>EMERGENCY ROOM ADMIT</td>\n",
       "      <td>Medicare</td>\n",
       "      <td>NaN</td>\n",
       "      <td>CATHOLIC</td>\n",
       "      <td>DIVORCED</td>\n",
       "      <td>WHITE</td>\n",
       "      <td>2149-05-26 12:08:00</td>\n",
       "      <td>2149-05-26 19:45:00</td>\n",
       "      <td>HUMERAL FRACTURE</td>\n",
       "      <td>0</td>\n",
       "    </tr>\n",
       "    <tr>\n",
       "      <th>4</th>\n",
       "      <td>12270</td>\n",
       "      <td>10019</td>\n",
       "      <td>177759</td>\n",
       "      <td>2163-05-14 20:43:00</td>\n",
       "      <td>2163-05-15 12:00:00</td>\n",
       "      <td>2163-05-15 12:00:00</td>\n",
       "      <td>EMERGENCY</td>\n",
       "      <td>TRANSFER FROM HOSP/EXTRAM</td>\n",
       "      <td>Medicare</td>\n",
       "      <td>NaN</td>\n",
       "      <td>CATHOLIC</td>\n",
       "      <td>DIVORCED</td>\n",
       "      <td>WHITE</td>\n",
       "      <td>NaN</td>\n",
       "      <td>NaN</td>\n",
       "      <td>ALCOHOLIC HEPATITIS</td>\n",
       "      <td>1</td>\n",
       "    </tr>\n",
       "  </tbody>\n",
       "</table>\n",
       "</div>"
      ],
      "text/plain": [
       "   row_id  subject_id  hadm_id            admittime            dischtime  \\\n",
       "0   12258       10006   142345  2164-10-23 21:09:00  2164-11-01 17:15:00   \n",
       "1   12263       10011   105331  2126-08-14 22:32:00  2126-08-28 18:59:00   \n",
       "2   12265       10013   165520  2125-10-04 23:36:00  2125-10-07 15:13:00   \n",
       "3   12269       10017   199207  2149-05-26 17:19:00  2149-06-03 18:42:00   \n",
       "4   12270       10019   177759  2163-05-14 20:43:00  2163-05-15 12:00:00   \n",
       "\n",
       "             deathtime admission_type         admission_location insurance  \\\n",
       "0                  NaN      EMERGENCY       EMERGENCY ROOM ADMIT  Medicare   \n",
       "1  2126-08-28 18:59:00      EMERGENCY  TRANSFER FROM HOSP/EXTRAM   Private   \n",
       "2  2125-10-07 15:13:00      EMERGENCY  TRANSFER FROM HOSP/EXTRAM  Medicare   \n",
       "3                  NaN      EMERGENCY       EMERGENCY ROOM ADMIT  Medicare   \n",
       "4  2163-05-15 12:00:00      EMERGENCY  TRANSFER FROM HOSP/EXTRAM  Medicare   \n",
       "\n",
       "  language  religion marital_status               ethnicity  \\\n",
       "0      NaN  CATHOLIC      SEPARATED  BLACK/AFRICAN AMERICAN   \n",
       "1      NaN  CATHOLIC         SINGLE   UNKNOWN/NOT SPECIFIED   \n",
       "2      NaN  CATHOLIC            NaN   UNKNOWN/NOT SPECIFIED   \n",
       "3      NaN  CATHOLIC       DIVORCED                   WHITE   \n",
       "4      NaN  CATHOLIC       DIVORCED                   WHITE   \n",
       "\n",
       "             edregtime            edouttime            diagnosis  \\\n",
       "0  2164-10-23 16:43:00  2164-10-23 23:00:00               SEPSIS   \n",
       "1                  NaN                  NaN          HEPATITIS B   \n",
       "2                  NaN                  NaN               SEPSIS   \n",
       "3  2149-05-26 12:08:00  2149-05-26 19:45:00     HUMERAL FRACTURE   \n",
       "4                  NaN                  NaN  ALCOHOLIC HEPATITIS   \n",
       "\n",
       "   hospital_expire_flag  \n",
       "0                     0  \n",
       "1                     1  \n",
       "2                     1  \n",
       "3                     0  \n",
       "4                     1  "
      ]
     },
     "execution_count": 5,
     "metadata": {},
     "output_type": "execute_result"
    }
   ],
   "source": [
    "print('\\nFirst five rows of the Admissions table')\n",
    "admissions.head(5)"
   ]
  },
  {
   "cell_type": "code",
   "execution_count": 6,
   "id": "7bf31bd0",
   "metadata": {},
   "outputs": [
    {
     "data": {
      "text/plain": [
       "(129, 17)"
      ]
     },
     "execution_count": 6,
     "metadata": {},
     "output_type": "execute_result"
    }
   ],
   "source": [
    "admissions.shape"
   ]
  },
  {
   "cell_type": "code",
   "execution_count": 7,
   "id": "1b83de68",
   "metadata": {},
   "outputs": [
    {
     "name": "stdout",
     "output_type": "stream",
     "text": [
      "\n",
      "First five rows of the Diagnosis table\n"
     ]
    },
    {
     "data": {
      "text/html": [
       "<div>\n",
       "<style scoped>\n",
       "    .dataframe tbody tr th:only-of-type {\n",
       "        vertical-align: middle;\n",
       "    }\n",
       "\n",
       "    .dataframe tbody tr th {\n",
       "        vertical-align: top;\n",
       "    }\n",
       "\n",
       "    .dataframe thead th {\n",
       "        text-align: right;\n",
       "    }\n",
       "</style>\n",
       "<table border=\"1\" class=\"dataframe\">\n",
       "  <thead>\n",
       "    <tr style=\"text-align: right;\">\n",
       "      <th></th>\n",
       "      <th>row_id</th>\n",
       "      <th>subject_id</th>\n",
       "      <th>hadm_id</th>\n",
       "      <th>icd9_code</th>\n",
       "    </tr>\n",
       "  </thead>\n",
       "  <tbody>\n",
       "    <tr>\n",
       "      <th>0</th>\n",
       "      <td>112344</td>\n",
       "      <td>10006</td>\n",
       "      <td>142345</td>\n",
       "      <td>99591</td>\n",
       "    </tr>\n",
       "    <tr>\n",
       "      <th>1</th>\n",
       "      <td>112345</td>\n",
       "      <td>10006</td>\n",
       "      <td>142345</td>\n",
       "      <td>99662</td>\n",
       "    </tr>\n",
       "    <tr>\n",
       "      <th>2</th>\n",
       "      <td>112346</td>\n",
       "      <td>10006</td>\n",
       "      <td>142345</td>\n",
       "      <td>5672</td>\n",
       "    </tr>\n",
       "    <tr>\n",
       "      <th>3</th>\n",
       "      <td>112347</td>\n",
       "      <td>10006</td>\n",
       "      <td>142345</td>\n",
       "      <td>40391</td>\n",
       "    </tr>\n",
       "    <tr>\n",
       "      <th>4</th>\n",
       "      <td>112348</td>\n",
       "      <td>10006</td>\n",
       "      <td>142345</td>\n",
       "      <td>42731</td>\n",
       "    </tr>\n",
       "  </tbody>\n",
       "</table>\n",
       "</div>"
      ],
      "text/plain": [
       "   row_id  subject_id  hadm_id icd9_code\n",
       "0  112344       10006   142345     99591\n",
       "1  112345       10006   142345     99662\n",
       "2  112346       10006   142345      5672\n",
       "3  112347       10006   142345     40391\n",
       "4  112348       10006   142345     42731"
      ]
     },
     "execution_count": 7,
     "metadata": {},
     "output_type": "execute_result"
    }
   ],
   "source": [
    "print('\\nFirst five rows of the Diagnosis table')\n",
    "diagnosis.head(5)"
   ]
  },
  {
   "cell_type": "code",
   "execution_count": 8,
   "id": "210d4d89",
   "metadata": {},
   "outputs": [
    {
     "data": {
      "text/plain": [
       "(1761, 4)"
      ]
     },
     "execution_count": 8,
     "metadata": {},
     "output_type": "execute_result"
    }
   ],
   "source": [
    "diagnosis.shape"
   ]
  },
  {
   "cell_type": "code",
   "execution_count": 9,
   "id": "ad3cec53",
   "metadata": {},
   "outputs": [
    {
     "name": "stdout",
     "output_type": "stream",
     "text": [
      "\n",
      "First five rows of the ICD codes table\n"
     ]
    },
    {
     "data": {
      "text/html": [
       "<div>\n",
       "<style scoped>\n",
       "    .dataframe tbody tr th:only-of-type {\n",
       "        vertical-align: middle;\n",
       "    }\n",
       "\n",
       "    .dataframe tbody tr th {\n",
       "        vertical-align: top;\n",
       "    }\n",
       "\n",
       "    .dataframe thead th {\n",
       "        text-align: right;\n",
       "    }\n",
       "</style>\n",
       "<table border=\"1\" class=\"dataframe\">\n",
       "  <thead>\n",
       "    <tr style=\"text-align: right;\">\n",
       "      <th></th>\n",
       "      <th>row_id</th>\n",
       "      <th>icd9_code</th>\n",
       "      <th>short_title</th>\n",
       "      <th>long_title</th>\n",
       "    </tr>\n",
       "  </thead>\n",
       "  <tbody>\n",
       "    <tr>\n",
       "      <th>0</th>\n",
       "      <td>1</td>\n",
       "      <td>01716</td>\n",
       "      <td>Erythem nod tb-oth test</td>\n",
       "      <td>Erythema nodosum with hypersensitivity reactio...</td>\n",
       "    </tr>\n",
       "    <tr>\n",
       "      <th>1</th>\n",
       "      <td>2</td>\n",
       "      <td>01720</td>\n",
       "      <td>TB periph lymph-unspec</td>\n",
       "      <td>Tuberculosis of peripheral lymph nodes, unspec...</td>\n",
       "    </tr>\n",
       "    <tr>\n",
       "      <th>2</th>\n",
       "      <td>3</td>\n",
       "      <td>01721</td>\n",
       "      <td>TB periph lymph-no exam</td>\n",
       "      <td>Tuberculosis of peripheral lymph nodes, bacter...</td>\n",
       "    </tr>\n",
       "    <tr>\n",
       "      <th>3</th>\n",
       "      <td>4</td>\n",
       "      <td>01722</td>\n",
       "      <td>TB periph lymph-exam unk</td>\n",
       "      <td>Tuberculosis of peripheral lymph nodes, bacter...</td>\n",
       "    </tr>\n",
       "    <tr>\n",
       "      <th>4</th>\n",
       "      <td>5</td>\n",
       "      <td>01723</td>\n",
       "      <td>TB periph lymph-micro dx</td>\n",
       "      <td>Tuberculosis of peripheral lymph nodes, tuberc...</td>\n",
       "    </tr>\n",
       "  </tbody>\n",
       "</table>\n",
       "</div>"
      ],
      "text/plain": [
       "   row_id icd9_code               short_title  \\\n",
       "0       1     01716   Erythem nod tb-oth test   \n",
       "1       2     01720    TB periph lymph-unspec   \n",
       "2       3     01721   TB periph lymph-no exam   \n",
       "3       4     01722  TB periph lymph-exam unk   \n",
       "4       5     01723  TB periph lymph-micro dx   \n",
       "\n",
       "                                          long_title  \n",
       "0  Erythema nodosum with hypersensitivity reactio...  \n",
       "1  Tuberculosis of peripheral lymph nodes, unspec...  \n",
       "2  Tuberculosis of peripheral lymph nodes, bacter...  \n",
       "3  Tuberculosis of peripheral lymph nodes, bacter...  \n",
       "4  Tuberculosis of peripheral lymph nodes, tuberc...  "
      ]
     },
     "execution_count": 9,
     "metadata": {},
     "output_type": "execute_result"
    }
   ],
   "source": [
    "print('\\nFirst five rows of the ICD codes table')\n",
    "icd.head(5)"
   ]
  },
  {
   "cell_type": "code",
   "execution_count": 10,
   "id": "116854e0",
   "metadata": {},
   "outputs": [
    {
     "data": {
      "text/plain": [
       "(14567, 4)"
      ]
     },
     "execution_count": 10,
     "metadata": {},
     "output_type": "execute_result"
    }
   ],
   "source": [
    "icd.shape"
   ]
  },
  {
   "cell_type": "code",
   "execution_count": 11,
   "id": "125b84d9",
   "metadata": {},
   "outputs": [
    {
     "name": "stdout",
     "output_type": "stream",
     "text": [
      "<class 'pandas.core.frame.DataFrame'>\n",
      "RangeIndex: 100 entries, 0 to 99\n",
      "Data columns (total 4 columns):\n",
      " #   Column      Non-Null Count  Dtype \n",
      "---  ------      --------------  ----- \n",
      " 0   row_id      100 non-null    int64 \n",
      " 1   subject_id  100 non-null    int64 \n",
      " 2   gender      100 non-null    object\n",
      " 3   dob         100 non-null    object\n",
      "dtypes: int64(2), object(2)\n",
      "memory usage: 3.2+ KB\n"
     ]
    }
   ],
   "source": [
    "#Getting the overview of the dataset structure\n",
    "patients.info()"
   ]
  },
  {
   "cell_type": "code",
   "execution_count": 12,
   "id": "1a032e59",
   "metadata": {},
   "outputs": [
    {
     "name": "stdout",
     "output_type": "stream",
     "text": [
      "<class 'pandas.core.frame.DataFrame'>\n",
      "RangeIndex: 129 entries, 0 to 128\n",
      "Data columns (total 17 columns):\n",
      " #   Column                Non-Null Count  Dtype \n",
      "---  ------                --------------  ----- \n",
      " 0   row_id                129 non-null    int64 \n",
      " 1   subject_id            129 non-null    int64 \n",
      " 2   hadm_id               129 non-null    int64 \n",
      " 3   admittime             129 non-null    object\n",
      " 4   dischtime             129 non-null    object\n",
      " 5   deathtime             40 non-null     object\n",
      " 6   admission_type        129 non-null    object\n",
      " 7   admission_location    129 non-null    object\n",
      " 8   insurance             129 non-null    object\n",
      " 9   language              81 non-null     object\n",
      " 10  religion              128 non-null    object\n",
      " 11  marital_status        113 non-null    object\n",
      " 12  ethnicity             129 non-null    object\n",
      " 13  edregtime             92 non-null     object\n",
      " 14  edouttime             92 non-null     object\n",
      " 15  diagnosis             129 non-null    object\n",
      " 16  hospital_expire_flag  129 non-null    int64 \n",
      "dtypes: int64(4), object(13)\n",
      "memory usage: 17.3+ KB\n"
     ]
    }
   ],
   "source": [
    "admissions.info()"
   ]
  },
  {
   "cell_type": "code",
   "execution_count": 13,
   "id": "183b0e00",
   "metadata": {},
   "outputs": [
    {
     "name": "stdout",
     "output_type": "stream",
     "text": [
      "<class 'pandas.core.frame.DataFrame'>\n",
      "RangeIndex: 1761 entries, 0 to 1760\n",
      "Data columns (total 4 columns):\n",
      " #   Column      Non-Null Count  Dtype \n",
      "---  ------      --------------  ----- \n",
      " 0   row_id      1761 non-null   int64 \n",
      " 1   subject_id  1761 non-null   int64 \n",
      " 2   hadm_id     1761 non-null   int64 \n",
      " 3   icd9_code   1761 non-null   object\n",
      "dtypes: int64(3), object(1)\n",
      "memory usage: 55.2+ KB\n"
     ]
    }
   ],
   "source": [
    "diagnosis.info()"
   ]
  },
  {
   "cell_type": "code",
   "execution_count": 14,
   "id": "2c8a6ffb",
   "metadata": {},
   "outputs": [
    {
     "name": "stdout",
     "output_type": "stream",
     "text": [
      "<class 'pandas.core.frame.DataFrame'>\n",
      "RangeIndex: 14567 entries, 0 to 14566\n",
      "Data columns (total 4 columns):\n",
      " #   Column       Non-Null Count  Dtype \n",
      "---  ------       --------------  ----- \n",
      " 0   row_id       14567 non-null  int64 \n",
      " 1   icd9_code    14567 non-null  object\n",
      " 2   short_title  14567 non-null  object\n",
      " 3   long_title   14567 non-null  object\n",
      "dtypes: int64(1), object(3)\n",
      "memory usage: 455.3+ KB\n"
     ]
    }
   ],
   "source": [
    "icd.info()"
   ]
  },
  {
   "cell_type": "code",
   "execution_count": 15,
   "id": "f87f5d62",
   "metadata": {},
   "outputs": [
    {
     "data": {
      "text/html": [
       "<div>\n",
       "<style scoped>\n",
       "    .dataframe tbody tr th:only-of-type {\n",
       "        vertical-align: middle;\n",
       "    }\n",
       "\n",
       "    .dataframe tbody tr th {\n",
       "        vertical-align: top;\n",
       "    }\n",
       "\n",
       "    .dataframe thead th {\n",
       "        text-align: right;\n",
       "    }\n",
       "</style>\n",
       "<table border=\"1\" class=\"dataframe\">\n",
       "  <thead>\n",
       "    <tr style=\"text-align: right;\">\n",
       "      <th></th>\n",
       "      <th>row_id</th>\n",
       "      <th>subject_id</th>\n",
       "      <th>hadm_id</th>\n",
       "      <th>hospital_expire_flag</th>\n",
       "    </tr>\n",
       "  </thead>\n",
       "  <tbody>\n",
       "    <tr>\n",
       "      <th>count</th>\n",
       "      <td>129.000000</td>\n",
       "      <td>129.000000</td>\n",
       "      <td>129.000000</td>\n",
       "      <td>129.000000</td>\n",
       "    </tr>\n",
       "    <tr>\n",
       "      <th>mean</th>\n",
       "      <td>28036.441860</td>\n",
       "      <td>28010.410853</td>\n",
       "      <td>152343.441860</td>\n",
       "      <td>0.310078</td>\n",
       "    </tr>\n",
       "    <tr>\n",
       "      <th>std</th>\n",
       "      <td>14036.548988</td>\n",
       "      <td>16048.502883</td>\n",
       "      <td>27858.788248</td>\n",
       "      <td>0.464328</td>\n",
       "    </tr>\n",
       "    <tr>\n",
       "      <th>min</th>\n",
       "      <td>12258.000000</td>\n",
       "      <td>10006.000000</td>\n",
       "      <td>100375.000000</td>\n",
       "      <td>0.000000</td>\n",
       "    </tr>\n",
       "    <tr>\n",
       "      <th>25%</th>\n",
       "      <td>12339.000000</td>\n",
       "      <td>10088.000000</td>\n",
       "      <td>128293.000000</td>\n",
       "      <td>0.000000</td>\n",
       "    </tr>\n",
       "    <tr>\n",
       "      <th>50%</th>\n",
       "      <td>39869.000000</td>\n",
       "      <td>40310.000000</td>\n",
       "      <td>157235.000000</td>\n",
       "      <td>0.000000</td>\n",
       "    </tr>\n",
       "    <tr>\n",
       "      <th>75%</th>\n",
       "      <td>40463.000000</td>\n",
       "      <td>42135.000000</td>\n",
       "      <td>174739.000000</td>\n",
       "      <td>1.000000</td>\n",
       "    </tr>\n",
       "    <tr>\n",
       "      <th>max</th>\n",
       "      <td>41092.000000</td>\n",
       "      <td>44228.000000</td>\n",
       "      <td>199395.000000</td>\n",
       "      <td>1.000000</td>\n",
       "    </tr>\n",
       "  </tbody>\n",
       "</table>\n",
       "</div>"
      ],
      "text/plain": [
       "             row_id    subject_id        hadm_id  hospital_expire_flag\n",
       "count    129.000000    129.000000     129.000000            129.000000\n",
       "mean   28036.441860  28010.410853  152343.441860              0.310078\n",
       "std    14036.548988  16048.502883   27858.788248              0.464328\n",
       "min    12258.000000  10006.000000  100375.000000              0.000000\n",
       "25%    12339.000000  10088.000000  128293.000000              0.000000\n",
       "50%    39869.000000  40310.000000  157235.000000              0.000000\n",
       "75%    40463.000000  42135.000000  174739.000000              1.000000\n",
       "max    41092.000000  44228.000000  199395.000000              1.000000"
      ]
     },
     "execution_count": 15,
     "metadata": {},
     "output_type": "execute_result"
    }
   ],
   "source": [
    "#Checking the summary of numerical columns in admissions table\n",
    "admissions.describe()"
   ]
  },
  {
   "cell_type": "code",
   "execution_count": 16,
   "id": "42df5722",
   "metadata": {},
   "outputs": [
    {
     "name": "stdout",
     "output_type": "stream",
     "text": [
      "\n",
      "Unique values of categorical columns in admissions table\n"
     ]
    },
    {
     "data": {
      "text/plain": [
       "admittime             129\n",
       "dischtime             129\n",
       "deathtime              40\n",
       "admission_type          3\n",
       "admission_location      5\n",
       "insurance               4\n",
       "language                5\n",
       "religion               10\n",
       "marital_status          6\n",
       "ethnicity               9\n",
       "edregtime              92\n",
       "edouttime              92\n",
       "diagnosis              95\n",
       "dtype: int64"
      ]
     },
     "execution_count": 16,
     "metadata": {},
     "output_type": "execute_result"
    }
   ],
   "source": [
    "#Unique values and it's count unique of all columns\n",
    "print('\\nUnique values of categorical columns in admissions table')\n",
    "(admissions.select_dtypes(include='object')).nunique()"
   ]
  },
  {
   "cell_type": "code",
   "execution_count": 17,
   "id": "3ac0a98f",
   "metadata": {},
   "outputs": [
    {
     "name": "stdout",
     "output_type": "stream",
     "text": [
      "\n",
      "Unique values of all columns in patients table\n"
     ]
    },
    {
     "data": {
      "text/plain": [
       "row_id        100\n",
       "subject_id    100\n",
       "gender          2\n",
       "dob            99\n",
       "dtype: int64"
      ]
     },
     "execution_count": 17,
     "metadata": {},
     "output_type": "execute_result"
    }
   ],
   "source": [
    "print('\\nUnique values of all columns in patients table')\n",
    "patients.nunique()"
   ]
  },
  {
   "cell_type": "code",
   "execution_count": 18,
   "id": "f76df1e0",
   "metadata": {},
   "outputs": [
    {
     "name": "stdout",
     "output_type": "stream",
     "text": [
      "\n",
      "Unique values of categorical columns in diagnosis table\n"
     ]
    },
    {
     "data": {
      "text/plain": [
       "icd9_code    580\n",
       "dtype: int64"
      ]
     },
     "execution_count": 18,
     "metadata": {},
     "output_type": "execute_result"
    }
   ],
   "source": [
    "print('\\nUnique values of categorical columns in diagnosis table')\n",
    "(diagnosis.select_dtypes(include='object')).nunique()"
   ]
  },
  {
   "cell_type": "code",
   "execution_count": 19,
   "id": "4a046ff0",
   "metadata": {},
   "outputs": [
    {
     "name": "stdout",
     "output_type": "stream",
     "text": [
      "\n",
      "Unique values of categorical columns in icd table\n"
     ]
    },
    {
     "data": {
      "text/plain": [
       "icd9_code      14567\n",
       "short_title    14328\n",
       "long_title     14562\n",
       "dtype: int64"
      ]
     },
     "execution_count": 19,
     "metadata": {},
     "output_type": "execute_result"
    }
   ],
   "source": [
    "print('\\nUnique values of categorical columns in icd table')\n",
    "(icd.select_dtypes(include='object')).nunique()"
   ]
  },
  {
   "cell_type": "markdown",
   "id": "4e8afd00",
   "metadata": {},
   "source": [
    "### Insights:\n",
    "- The given dataset contains the data of 100 unique patients.\n",
    "- The total number of icd9 codes provided is 14567 where as only 580 codes are being used in the data."
   ]
  },
  {
   "cell_type": "markdown",
   "id": "66d24157",
   "metadata": {},
   "source": [
    "## Data Processing"
   ]
  },
  {
   "cell_type": "code",
   "execution_count": 20,
   "id": "f2d2ddf1",
   "metadata": {},
   "outputs": [
    {
     "data": {
      "text/plain": [
       "row_id        0\n",
       "subject_id    0\n",
       "gender        0\n",
       "dob           0\n",
       "dtype: int64"
      ]
     },
     "execution_count": 20,
     "metadata": {},
     "output_type": "execute_result"
    }
   ],
   "source": [
    "#Checking for missing values\n",
    "patients.isna().sum()"
   ]
  },
  {
   "cell_type": "code",
   "execution_count": 21,
   "id": "7191834a",
   "metadata": {},
   "outputs": [
    {
     "data": {
      "text/plain": [
       "row_id                   0\n",
       "subject_id               0\n",
       "hadm_id                  0\n",
       "admittime                0\n",
       "dischtime                0\n",
       "deathtime               89\n",
       "admission_type           0\n",
       "admission_location       0\n",
       "insurance                0\n",
       "language                48\n",
       "religion                 1\n",
       "marital_status          16\n",
       "ethnicity                0\n",
       "edregtime               37\n",
       "edouttime               37\n",
       "diagnosis                0\n",
       "hospital_expire_flag     0\n",
       "dtype: int64"
      ]
     },
     "execution_count": 21,
     "metadata": {},
     "output_type": "execute_result"
    }
   ],
   "source": [
    "admissions.isna().sum()"
   ]
  },
  {
   "cell_type": "code",
   "execution_count": 22,
   "id": "bc88e16c",
   "metadata": {},
   "outputs": [
    {
     "data": {
      "text/plain": [
       "row_id        0\n",
       "subject_id    0\n",
       "hadm_id       0\n",
       "icd9_code     0\n",
       "dtype: int64"
      ]
     },
     "execution_count": 22,
     "metadata": {},
     "output_type": "execute_result"
    }
   ],
   "source": [
    "diagnosis.isna().sum()"
   ]
  },
  {
   "cell_type": "code",
   "execution_count": 23,
   "id": "20eaa3d1",
   "metadata": {},
   "outputs": [
    {
     "data": {
      "text/plain": [
       "row_id         0\n",
       "icd9_code      0\n",
       "short_title    0\n",
       "long_title     0\n",
       "dtype: int64"
      ]
     },
     "execution_count": 23,
     "metadata": {},
     "output_type": "execute_result"
    }
   ],
   "source": [
    "icd.isna().sum()"
   ]
  },
  {
   "cell_type": "code",
   "execution_count": 24,
   "id": "78bbf4d5",
   "metadata": {},
   "outputs": [
    {
     "data": {
      "text/html": [
       "<div>\n",
       "<style scoped>\n",
       "    .dataframe tbody tr th:only-of-type {\n",
       "        vertical-align: middle;\n",
       "    }\n",
       "\n",
       "    .dataframe tbody tr th {\n",
       "        vertical-align: top;\n",
       "    }\n",
       "\n",
       "    .dataframe thead th {\n",
       "        text-align: right;\n",
       "    }\n",
       "</style>\n",
       "<table border=\"1\" class=\"dataframe\">\n",
       "  <thead>\n",
       "    <tr style=\"text-align: right;\">\n",
       "      <th></th>\n",
       "      <th>row_id</th>\n",
       "      <th>subject_id</th>\n",
       "      <th>gender</th>\n",
       "      <th>dob</th>\n",
       "    </tr>\n",
       "  </thead>\n",
       "  <tbody>\n",
       "  </tbody>\n",
       "</table>\n",
       "</div>"
      ],
      "text/plain": [
       "Empty DataFrame\n",
       "Columns: [row_id, subject_id, gender, dob]\n",
       "Index: []"
      ]
     },
     "execution_count": 24,
     "metadata": {},
     "output_type": "execute_result"
    }
   ],
   "source": [
    "# Duplicate entry check\n",
    "patients[patients.duplicated()]"
   ]
  },
  {
   "cell_type": "code",
   "execution_count": 25,
   "id": "493029bf",
   "metadata": {},
   "outputs": [
    {
     "data": {
      "text/html": [
       "<div>\n",
       "<style scoped>\n",
       "    .dataframe tbody tr th:only-of-type {\n",
       "        vertical-align: middle;\n",
       "    }\n",
       "\n",
       "    .dataframe tbody tr th {\n",
       "        vertical-align: top;\n",
       "    }\n",
       "\n",
       "    .dataframe thead th {\n",
       "        text-align: right;\n",
       "    }\n",
       "</style>\n",
       "<table border=\"1\" class=\"dataframe\">\n",
       "  <thead>\n",
       "    <tr style=\"text-align: right;\">\n",
       "      <th></th>\n",
       "      <th>row_id</th>\n",
       "      <th>subject_id</th>\n",
       "      <th>hadm_id</th>\n",
       "      <th>admittime</th>\n",
       "      <th>dischtime</th>\n",
       "      <th>deathtime</th>\n",
       "      <th>admission_type</th>\n",
       "      <th>admission_location</th>\n",
       "      <th>insurance</th>\n",
       "      <th>language</th>\n",
       "      <th>religion</th>\n",
       "      <th>marital_status</th>\n",
       "      <th>ethnicity</th>\n",
       "      <th>edregtime</th>\n",
       "      <th>edouttime</th>\n",
       "      <th>diagnosis</th>\n",
       "      <th>hospital_expire_flag</th>\n",
       "    </tr>\n",
       "  </thead>\n",
       "  <tbody>\n",
       "  </tbody>\n",
       "</table>\n",
       "</div>"
      ],
      "text/plain": [
       "Empty DataFrame\n",
       "Columns: [row_id, subject_id, hadm_id, admittime, dischtime, deathtime, admission_type, admission_location, insurance, language, religion, marital_status, ethnicity, edregtime, edouttime, diagnosis, hospital_expire_flag]\n",
       "Index: []"
      ]
     },
     "execution_count": 25,
     "metadata": {},
     "output_type": "execute_result"
    }
   ],
   "source": [
    "admissions[admissions.duplicated()]"
   ]
  },
  {
   "cell_type": "code",
   "execution_count": 26,
   "id": "46e3217c",
   "metadata": {},
   "outputs": [
    {
     "data": {
      "text/html": [
       "<div>\n",
       "<style scoped>\n",
       "    .dataframe tbody tr th:only-of-type {\n",
       "        vertical-align: middle;\n",
       "    }\n",
       "\n",
       "    .dataframe tbody tr th {\n",
       "        vertical-align: top;\n",
       "    }\n",
       "\n",
       "    .dataframe thead th {\n",
       "        text-align: right;\n",
       "    }\n",
       "</style>\n",
       "<table border=\"1\" class=\"dataframe\">\n",
       "  <thead>\n",
       "    <tr style=\"text-align: right;\">\n",
       "      <th></th>\n",
       "      <th>row_id</th>\n",
       "      <th>subject_id</th>\n",
       "      <th>hadm_id</th>\n",
       "      <th>icd9_code</th>\n",
       "    </tr>\n",
       "  </thead>\n",
       "  <tbody>\n",
       "  </tbody>\n",
       "</table>\n",
       "</div>"
      ],
      "text/plain": [
       "Empty DataFrame\n",
       "Columns: [row_id, subject_id, hadm_id, icd9_code]\n",
       "Index: []"
      ]
     },
     "execution_count": 26,
     "metadata": {},
     "output_type": "execute_result"
    }
   ],
   "source": [
    "diagnosis[diagnosis.duplicated()]"
   ]
  },
  {
   "cell_type": "code",
   "execution_count": 27,
   "id": "09741581",
   "metadata": {},
   "outputs": [
    {
     "data": {
      "text/html": [
       "<div>\n",
       "<style scoped>\n",
       "    .dataframe tbody tr th:only-of-type {\n",
       "        vertical-align: middle;\n",
       "    }\n",
       "\n",
       "    .dataframe tbody tr th {\n",
       "        vertical-align: top;\n",
       "    }\n",
       "\n",
       "    .dataframe thead th {\n",
       "        text-align: right;\n",
       "    }\n",
       "</style>\n",
       "<table border=\"1\" class=\"dataframe\">\n",
       "  <thead>\n",
       "    <tr style=\"text-align: right;\">\n",
       "      <th></th>\n",
       "      <th>row_id</th>\n",
       "      <th>icd9_code</th>\n",
       "      <th>short_title</th>\n",
       "      <th>long_title</th>\n",
       "    </tr>\n",
       "  </thead>\n",
       "  <tbody>\n",
       "  </tbody>\n",
       "</table>\n",
       "</div>"
      ],
      "text/plain": [
       "Empty DataFrame\n",
       "Columns: [row_id, icd9_code, short_title, long_title]\n",
       "Index: []"
      ]
     },
     "execution_count": 27,
     "metadata": {},
     "output_type": "execute_result"
    }
   ],
   "source": [
    "icd[icd.duplicated()]"
   ]
  },
  {
   "cell_type": "code",
   "execution_count": 28,
   "id": "052eba25",
   "metadata": {},
   "outputs": [],
   "source": [
    "#Converting date columns type from object to datetime\n",
    "patients['dob'] = pd.to_datetime(patients['dob'])\n",
    "admissions['admittime'] = pd.to_datetime(admissions['admittime'])\n",
    "admissions['dischtime'] = pd.to_datetime(admissions['dischtime'])\n",
    "admissions['deathtime'] = pd.to_datetime(admissions['deathtime'])\n",
    "admissions['edregtime'] = pd.to_datetime(admissions['edregtime'])\n",
    "admissions['edouttime'] = pd.to_datetime(admissions['edouttime'])"
   ]
  },
  {
   "cell_type": "markdown",
   "id": "2a53e6fb",
   "metadata": {},
   "source": [
    "## Demographic Analysis"
   ]
  },
  {
   "cell_type": "code",
   "execution_count": 29,
   "id": "96261271",
   "metadata": {},
   "outputs": [],
   "source": [
    "#Joining the Patients table and Admissions table for further analysis\n",
    "admpt = admissions.merge(patients[['subject_id', 'gender', 'dob']], how='left',on='subject_id')"
   ]
  },
  {
   "cell_type": "code",
   "execution_count": 30,
   "id": "6333515d",
   "metadata": {},
   "outputs": [],
   "source": [
    "#Creating the age column using dob and admittime\n",
    "admpt['age'] = admpt['admittime'].dt.year - admpt['dob'].dt.year"
   ]
  },
  {
   "cell_type": "code",
   "execution_count": 31,
   "id": "aaa3e4e0",
   "metadata": {},
   "outputs": [],
   "source": [
    "#Converting age = 300 to 89\n",
    "admpt['age'] = admpt['age'].apply(lambda x: 89 if x == 300 else x)"
   ]
  },
  {
   "cell_type": "code",
   "execution_count": 32,
   "id": "09983123",
   "metadata": {},
   "outputs": [],
   "source": [
    "admpt['agegroup'] = pd.cut(admpt['age'], bins=[0,30, 60, 70, 80, 100], labels=['0-30', '31-60', '61-70', '71-80', '>80'])"
   ]
  },
  {
   "cell_type": "code",
   "execution_count": 33,
   "id": "7863ab95",
   "metadata": {},
   "outputs": [
    {
     "data": {
      "image/png": "[encoded data removed]",
      "text/plain": [
       "<Figure size 1200x1500 with 4 Axes>"
      ]
     },
     "metadata": {},
     "output_type": "display_data"
    }
   ],
   "source": [
    "# Plotting the distribution of Gender, Age group, Ethnicity and Marital status\n",
    "plt.figure(figsize=(12,15))\n",
    "columns = ['ethnicity', 'marital_status']\n",
    "plt.subplot(2,2,1)\n",
    "admpt['gender'].value_counts().plot(kind='pie',\n",
    "                                         autopct='%1.0f%%',\n",
    "                                         colors=['hotpink', 'royalblue'],\n",
    "                                         legend=True,\n",
    "                                         ylabel='')\n",
    "plt.title('Gender Distribution')\n",
    "\n",
    "plt.subplot(2,2,2)\n",
    "admpt['agegroup'].value_counts().plot(kind='pie',\n",
    "                                           autopct='%1.0f%%',\n",
    "                                           legend=True,\n",
    "                                           explode = (0.1, 0, 0, 0, 0),\n",
    "                                           colors=['r','b','c','g', 'orange'],\n",
    "                                           shadow=True,\n",
    "                                           ylabel='')\n",
    "plt.title('Age Group Distribution')\n",
    "\n",
    "for i, column in enumerate(columns, 3):\n",
    "    plt.subplot(2,2,i)\n",
    "    ax = sns.countplot(data=admpt, x=column)\n",
    "    for p in ax.patches:\n",
    "        ax.annotate(f'{p.get_height()}', (p.get_x() + p.get_width() / 2., p.get_height()),\n",
    "                    ha='center', va='baseline', fontsize=9, color='black', xytext=(0, 5),\n",
    "                    textcoords='offset points')\n",
    "    plt.title(f'Distribution Of Patients By {column}')\n",
    "    plt.xlabel(column)\n",
    "    plt.ylabel('Number Of Patients')\n",
    "    plt.xticks(rotation=90)\n",
    "plt.tight_layout(h_pad=4)\n",
    "plt.show()\n"
   ]
  },
  {
   "cell_type": "markdown",
   "id": "afaa3dfa",
   "metadata": {},
   "source": [
    "## Admission Characteristics"
   ]
  },
  {
   "cell_type": "markdown",
   "id": "c3dda410",
   "metadata": {},
   "source": [
    "### Readmission Rate"
   ]
  },
  {
   "cell_type": "code",
   "execution_count": 34,
   "id": "3144cc35",
   "metadata": {},
   "outputs": [
    {
     "name": "stdout",
     "output_type": "stream",
     "text": [
      "\n",
      "Readmission pattern\n"
     ]
    },
    {
     "data": {
      "text/plain": [
       "1     86\n",
       "2     11\n",
       "3      2\n",
       "15     1\n",
       "Name: admissioncount, dtype: int64"
      ]
     },
     "execution_count": 34,
     "metadata": {},
     "output_type": "execute_result"
    }
   ],
   "source": [
    "print('\\nReadmission pattern')\n",
    "admpt.groupby('subject_id').agg({'admittime': 'count'}).reset_index().rename({'admittime': 'admissioncount'}, axis=1)['admissioncount'].value_counts()"
   ]
  },
  {
   "cell_type": "markdown",
   "id": "9f49570f",
   "metadata": {},
   "source": [
    "### Insights:\n",
    "- One patient was admitted 15 times to the hospital and two patients were admitted three times.\n",
    "- Eleven patients were admitted twice and rest of the patients were admitted only once.\n",
    "- The data shows that the redmission rates are pretty less provided a few number of patients were admitted more than once. "
   ]
  },
  {
   "cell_type": "markdown",
   "id": "ad59ed20",
   "metadata": {},
   "source": [
    "### Admission type frequency"
   ]
  },
  {
   "cell_type": "code",
   "execution_count": 35,
   "id": "c94e9ac3",
   "metadata": {},
   "outputs": [
    {
     "data": {
      "image/png": "[encoded data removed]",
      "text/plain": [
       "<Figure size 800x600 with 1 Axes>"
      ]
     },
     "metadata": {},
     "output_type": "display_data"
    }
   ],
   "source": [
    "plt.figure(figsize=(8,6))\n",
    "admpt['admission_type'].value_counts().plot(kind='pie',\n",
    "                                           autopct='%1.0f%%',\n",
    "                                           legend=True,\n",
    "                                           explode = (0.1, 0.1, 0),\n",
    "                                           colors=['orangered','b','c'],\n",
    "                                            startangle=30,\n",
    "                                           ylabel='')\n",
    "plt.title('Admission Type Distribution')\n",
    "plt.tight_layout()\n",
    "plt.show()"
   ]
  },
  {
   "cell_type": "markdown",
   "id": "04ddf35d",
   "metadata": {},
   "source": [
    "### Insights:\n",
    "- 92% of the admission types of the given dataset is emergency.\n",
    "- Only 2% of the admissions are urgent and 6% are elective."
   ]
  },
  {
   "cell_type": "markdown",
   "id": "03618f35",
   "metadata": {},
   "source": [
    "## Diagnosis Analysis"
   ]
  },
  {
   "cell_type": "markdown",
   "id": "5502047a",
   "metadata": {},
   "source": [
    "### Most Frequent ICD9 Diagnosis"
   ]
  },
  {
   "cell_type": "code",
   "execution_count": 107,
   "id": "c4e78796",
   "metadata": {},
   "outputs": [
    {
     "data": {
      "image/png": "[encoded data removed]",
      "text/plain": [
       "<Figure size 500x500 with 1 Axes>"
      ]
     },
     "metadata": {},
     "output_type": "display_data"
    }
   ],
   "source": [
    "d = diagnosis.groupby('icd9_code').agg({'subject_id': 'count'}).reset_index().rename({'subject_id': 'frequency'}, axis=1).sort_values(by='frequency', ascending=False).head(5)\n",
    "plt.figure(figsize=(5,5))\n",
    "ax = sns.barplot(data=d, x='icd9_code', y='frequency')\n",
    "for p in ax.patches:\n",
    "    ax.annotate(f'{p.get_height()}', (p.get_x() + p.get_width() / 2., p.get_height()),\n",
    "                    ha='center', va='baseline', fontsize=9, color='black', xytext=(0, 5),\n",
    "                    textcoords='offset points')\n",
    "plt.title('Most frequent ICD9 codes')\n",
    "plt.xlabel('ICD9 Code')\n",
    "plt.ylabel('Frequency')\n",
    "plt.tight_layout()\n",
    "plt.show()"
   ]
  },
  {
   "cell_type": "markdown",
   "id": "ab534445",
   "metadata": {},
   "source": [
    "### Insights:\n",
    "- The most frequent ICD9 diagnosis is 4019 wich was diagnosed 53 times.\n",
    "- The top 5 frequent ICD9 diagnosis are 4019, 42731, 5849, 4280 and 51881 with a frequency of 53, 48, 45, 39 and 31 times diagnosed respectively.\n"
   ]
  },
  {
   "cell_type": "markdown",
   "id": "e89415db",
   "metadata": {},
   "source": [
    "## Associations between Diagnosis and Patient Outcomes"
   ]
  },
  {
   "cell_type": "markdown",
   "id": "6aff65ee",
   "metadata": {},
   "source": [
    "### Diagnosis vs Length of stay"
   ]
  },
  {
   "cell_type": "code",
   "execution_count": 141,
   "id": "6b3841fd",
   "metadata": {},
   "outputs": [],
   "source": [
    "#Creating the length of stay column form discchrge time and admit time\n",
    "admpt['stay_length'] = (admpt['dischtime'] - admpt['admittime']).astype('timedelta64[D]').astype(int)"
   ]
  },
  {
   "cell_type": "code",
   "execution_count": 143,
   "id": "01c41a7e",
   "metadata": {},
   "outputs": [],
   "source": [
    "#Joining the Patients table, Admissions table and Diagnosis for further analysis\n",
    "admptdiag = admpt.merge(diagnosis[['hadm_id', 'icd9_code']], how='right', on='hadm_id')"
   ]
  },
  {
   "cell_type": "code",
   "execution_count": 205,
   "id": "cf9fcca2",
   "metadata": {},
   "outputs": [
    {
     "data": {
      "text/html": [
       "<div>\n",
       "<style scoped>\n",
       "    .dataframe tbody tr th:only-of-type {\n",
       "        vertical-align: middle;\n",
       "    }\n",
       "\n",
       "    .dataframe tbody tr th {\n",
       "        vertical-align: top;\n",
       "    }\n",
       "\n",
       "    .dataframe thead th {\n",
       "        text-align: right;\n",
       "    }\n",
       "</style>\n",
       "<table border=\"1\" class=\"dataframe\">\n",
       "  <thead>\n",
       "    <tr style=\"text-align: right;\">\n",
       "      <th></th>\n",
       "      <th>diagnosis</th>\n",
       "      <th>stay_length</th>\n",
       "      <th>subject_id</th>\n",
       "      <th>icd9_code</th>\n",
       "    </tr>\n",
       "  </thead>\n",
       "  <tbody>\n",
       "    <tr>\n",
       "      <th>28</th>\n",
       "      <td>FACIAL NUMBNESS</td>\n",
       "      <td>123</td>\n",
       "      <td>1</td>\n",
       "      <td>36</td>\n",
       "    </tr>\n",
       "    <tr>\n",
       "      <th>26</th>\n",
       "      <td>ESOPHAGEAL CA/SDA</td>\n",
       "      <td>39</td>\n",
       "      <td>2</td>\n",
       "      <td>19</td>\n",
       "    </tr>\n",
       "    <tr>\n",
       "      <th>5</th>\n",
       "      <td>ACUTE RESPIRATORY DISTRESS SYNDROME;ACUTE RENA...</td>\n",
       "      <td>36</td>\n",
       "      <td>1</td>\n",
       "      <td>24</td>\n",
       "    </tr>\n",
       "    <tr>\n",
       "      <th>46</th>\n",
       "      <td>LIVER FAILURE</td>\n",
       "      <td>35</td>\n",
       "      <td>2</td>\n",
       "      <td>26</td>\n",
       "    </tr>\n",
       "    <tr>\n",
       "      <th>72</th>\n",
       "      <td>SEIZURE;STATUS EPILEPTICUS</td>\n",
       "      <td>32</td>\n",
       "      <td>1</td>\n",
       "      <td>19</td>\n",
       "    </tr>\n",
       "    <tr>\n",
       "      <th>...</th>\n",
       "      <td>...</td>\n",
       "      <td>...</td>\n",
       "      <td>...</td>\n",
       "      <td>...</td>\n",
       "    </tr>\n",
       "    <tr>\n",
       "      <th>57</th>\n",
       "      <td>PLEURAL EFFUSION</td>\n",
       "      <td>0</td>\n",
       "      <td>1</td>\n",
       "      <td>8</td>\n",
       "    </tr>\n",
       "    <tr>\n",
       "      <th>79</th>\n",
       "      <td>STEMI;</td>\n",
       "      <td>0</td>\n",
       "      <td>1</td>\n",
       "      <td>14</td>\n",
       "    </tr>\n",
       "    <tr>\n",
       "      <th>78</th>\n",
       "      <td>STATUS POST MOTOR VEHICLE ACCIDENT WITH INJURIES</td>\n",
       "      <td>0</td>\n",
       "      <td>1</td>\n",
       "      <td>5</td>\n",
       "    </tr>\n",
       "    <tr>\n",
       "      <th>60</th>\n",
       "      <td>PNEUMONIA;TELEMETRY</td>\n",
       "      <td>0</td>\n",
       "      <td>1</td>\n",
       "      <td>9</td>\n",
       "    </tr>\n",
       "    <tr>\n",
       "      <th>94</th>\n",
       "      <td>VOLVULUS</td>\n",
       "      <td>0</td>\n",
       "      <td>1</td>\n",
       "      <td>19</td>\n",
       "    </tr>\n",
       "  </tbody>\n",
       "</table>\n",
       "<p>95 rows × 4 columns</p>\n",
       "</div>"
      ],
      "text/plain": [
       "                                            diagnosis  stay_length  \\\n",
       "28                                    FACIAL NUMBNESS          123   \n",
       "26                                  ESOPHAGEAL CA/SDA           39   \n",
       "5   ACUTE RESPIRATORY DISTRESS SYNDROME;ACUTE RENA...           36   \n",
       "46                                      LIVER FAILURE           35   \n",
       "72                         SEIZURE;STATUS EPILEPTICUS           32   \n",
       "..                                                ...          ...   \n",
       "57                                   PLEURAL EFFUSION            0   \n",
       "79                                             STEMI;            0   \n",
       "78   STATUS POST MOTOR VEHICLE ACCIDENT WITH INJURIES            0   \n",
       "60                                PNEUMONIA;TELEMETRY            0   \n",
       "94                                           VOLVULUS            0   \n",
       "\n",
       "    subject_id  icd9_code  \n",
       "28           1         36  \n",
       "26           2         19  \n",
       "5            1         24  \n",
       "46           2         26  \n",
       "72           1         19  \n",
       "..         ...        ...  \n",
       "57           1          8  \n",
       "79           1         14  \n",
       "78           1          5  \n",
       "60           1          9  \n",
       "94           1         19  \n",
       "\n",
       "[95 rows x 4 columns]"
      ]
     },
     "execution_count": 205,
     "metadata": {},
     "output_type": "execute_result"
    }
   ],
   "source": [
    "# Association between diagnosis and length of stay\n",
    "admptdiag.groupby(['diagnosis']).agg({'stay_length':'max', 'subject_id': 'nunique', 'icd9_code': 'nunique'}).reset_index().sort_values(by='stay_length', ascending=False)"
   ]
  },
  {
   "cell_type": "markdown",
   "id": "d704962c",
   "metadata": {},
   "source": [
    "### Insights:\n",
    "- A paatient with Facial Numbness diagnosis was admitted with 36 different ICD9 codes with a stay length of 123 days which is the highest of all admissions.\n",
    "- The diagnosis ESOPHAGEAL CA/SDA has the second highest stay length with 39 days."
   ]
  },
  {
   "cell_type": "markdown",
   "id": "61b7ef22",
   "metadata": {},
   "source": [
    "### Diagnosis vs Readmission Rate"
   ]
  },
  {
   "cell_type": "code",
   "execution_count": 242,
   "id": "13517967",
   "metadata": {},
   "outputs": [
    {
     "data": {
      "text/html": [
       "<div>\n",
       "<style scoped>\n",
       "    .dataframe tbody tr th:only-of-type {\n",
       "        vertical-align: middle;\n",
       "    }\n",
       "\n",
       "    .dataframe tbody tr th {\n",
       "        vertical-align: top;\n",
       "    }\n",
       "\n",
       "    .dataframe thead th {\n",
       "        text-align: right;\n",
       "    }\n",
       "</style>\n",
       "<table border=\"1\" class=\"dataframe\">\n",
       "  <thead>\n",
       "    <tr style=\"text-align: right;\">\n",
       "      <th></th>\n",
       "      <th>diagnosis</th>\n",
       "      <th>subject_id</th>\n",
       "      <th>readmissions</th>\n",
       "    </tr>\n",
       "  </thead>\n",
       "  <tbody>\n",
       "    <tr>\n",
       "      <th>93</th>\n",
       "      <td>SEPSIS</td>\n",
       "      <td>41976</td>\n",
       "      <td>5</td>\n",
       "    </tr>\n",
       "    <tr>\n",
       "      <th>70</th>\n",
       "      <td>PNEUMONIA</td>\n",
       "      <td>41976</td>\n",
       "      <td>4</td>\n",
       "    </tr>\n",
       "    <tr>\n",
       "      <th>36</th>\n",
       "      <td>FEVER</td>\n",
       "      <td>10117</td>\n",
       "      <td>2</td>\n",
       "    </tr>\n",
       "    <tr>\n",
       "      <th>11</th>\n",
       "      <td>ASTHMA;CHRONIC OBST PULM DISEASE</td>\n",
       "      <td>41795</td>\n",
       "      <td>2</td>\n",
       "    </tr>\n",
       "    <tr>\n",
       "      <th>0</th>\n",
       "      <td>ABDOMINAL PAIN</td>\n",
       "      <td>40687</td>\n",
       "      <td>1</td>\n",
       "    </tr>\n",
       "  </tbody>\n",
       "</table>\n",
       "</div>"
      ],
      "text/plain": [
       "                           diagnosis  subject_id  readmissions\n",
       "93                            SEPSIS       41976             5\n",
       "70                         PNEUMONIA       41976             4\n",
       "36                             FEVER       10117             2\n",
       "11  ASTHMA;CHRONIC OBST PULM DISEASE       41795             2\n",
       "0                     ABDOMINAL PAIN       40687             1"
      ]
     },
     "execution_count": 242,
     "metadata": {},
     "output_type": "execute_result"
    }
   ],
   "source": [
    "#Top 5 diagnosis with highest readmission rates\n",
    "top5readm = admpt.groupby(['diagnosis', 'subject_id']).agg({'hadm_id': 'count'}).reset_index().rename({'hadm_id': 'readmissions'}, axis=1).sort_values(by='readmissions', ascending=False).head(5)\n",
    "top5readm"
   ]
  },
  {
   "cell_type": "code",
   "execution_count": 247,
   "id": "ad89b080",
   "metadata": {},
   "outputs": [
    {
     "data": {
      "image/png": "[encoded data removed]",
      "text/plain": [
       "<Figure size 700x800 with 1 Axes>"
      ]
     },
     "metadata": {},
     "output_type": "display_data"
    }
   ],
   "source": [
    "plt.figure(figsize=(7,8))\n",
    "ax = sns.barplot(data=top5readm, x='diagnosis', y='readmissions')\n",
    "for p in ax.patches:\n",
    "    ax.annotate(f'{p.get_height()}', (p.get_x() + p.get_width() / 2., p.get_height()),\n",
    "                    ha='center', va='baseline', fontsize=9, color='black', xytext=(0, 5),\n",
    "                    textcoords='offset points')\n",
    "plt.title('Top 5 diagnosis with highest readmission rates')\n",
    "plt.xlabel('Diagnosis')\n",
    "plt.ylabel('Readmissions')\n",
    "plt.xticks(rotation=90)\n",
    "plt.tight_layout()\n",
    "plt.show()"
   ]
  },
  {
   "cell_type": "markdown",
   "id": "e9b57dbc",
   "metadata": {},
   "source": [
    "## Mortality Analysis"
   ]
  },
  {
   "cell_type": "markdown",
   "id": "18b4e00c",
   "metadata": {},
   "source": [
    "### Mortality Rates for Different Diagnosis and Admission Types"
   ]
  },
  {
   "cell_type": "code",
   "execution_count": 268,
   "id": "8933d344",
   "metadata": {},
   "outputs": [
    {
     "data": {
      "text/html": [
       "<div>\n",
       "<style scoped>\n",
       "    .dataframe tbody tr th:only-of-type {\n",
       "        vertical-align: middle;\n",
       "    }\n",
       "\n",
       "    .dataframe tbody tr th {\n",
       "        vertical-align: top;\n",
       "    }\n",
       "\n",
       "    .dataframe thead th {\n",
       "        text-align: right;\n",
       "    }\n",
       "</style>\n",
       "<table border=\"1\" class=\"dataframe\">\n",
       "  <thead>\n",
       "    <tr style=\"text-align: right;\">\n",
       "      <th></th>\n",
       "      <th>diagnosis</th>\n",
       "      <th>admission_type</th>\n",
       "      <th>no_of_deaths</th>\n",
       "    </tr>\n",
       "  </thead>\n",
       "  <tbody>\n",
       "    <tr>\n",
       "      <th>22</th>\n",
       "      <td>CONGESTIVE HEART FAILURE</td>\n",
       "      <td>EMERGENCY</td>\n",
       "      <td>2</td>\n",
       "    </tr>\n",
       "    <tr>\n",
       "      <th>46</th>\n",
       "      <td>LIVER FAILURE</td>\n",
       "      <td>EMERGENCY</td>\n",
       "      <td>2</td>\n",
       "    </tr>\n",
       "    <tr>\n",
       "      <th>73</th>\n",
       "      <td>SEPSIS</td>\n",
       "      <td>EMERGENCY</td>\n",
       "      <td>2</td>\n",
       "    </tr>\n",
       "    <tr>\n",
       "      <th>30</th>\n",
       "      <td>FEVER</td>\n",
       "      <td>EMERGENCY</td>\n",
       "      <td>2</td>\n",
       "    </tr>\n",
       "    <tr>\n",
       "      <th>0</th>\n",
       "      <td>ABDOMINAL PAIN</td>\n",
       "      <td>EMERGENCY</td>\n",
       "      <td>1</td>\n",
       "    </tr>\n",
       "    <tr>\n",
       "      <th>71</th>\n",
       "      <td>SEIZURE</td>\n",
       "      <td>EMERGENCY</td>\n",
       "      <td>1</td>\n",
       "    </tr>\n",
       "    <tr>\n",
       "      <th>35</th>\n",
       "      <td>HEPATITIS B</td>\n",
       "      <td>EMERGENCY</td>\n",
       "      <td>1</td>\n",
       "    </tr>\n",
       "    <tr>\n",
       "      <th>39</th>\n",
       "      <td>HYPOTENSION</td>\n",
       "      <td>EMERGENCY</td>\n",
       "      <td>1</td>\n",
       "    </tr>\n",
       "    <tr>\n",
       "      <th>43</th>\n",
       "      <td>INFERIOR MYOCARDIAL INFARCTION\\CATH</td>\n",
       "      <td>EMERGENCY</td>\n",
       "      <td>1</td>\n",
       "    </tr>\n",
       "    <tr>\n",
       "      <th>48</th>\n",
       "      <td>LUNG CANCER;SHORTNESS OF BREATH</td>\n",
       "      <td>EMERGENCY</td>\n",
       "      <td>1</td>\n",
       "    </tr>\n",
       "    <tr>\n",
       "      <th>51</th>\n",
       "      <td>METASTIC MELANOMA;ANEMIA</td>\n",
       "      <td>EMERGENCY</td>\n",
       "      <td>1</td>\n",
       "    </tr>\n",
       "    <tr>\n",
       "      <th>60</th>\n",
       "      <td>PNEUMONIA;TELEMETRY</td>\n",
       "      <td>EMERGENCY</td>\n",
       "      <td>1</td>\n",
       "    </tr>\n",
       "    <tr>\n",
       "      <th>68</th>\n",
       "      <td>S/P FALL</td>\n",
       "      <td>EMERGENCY</td>\n",
       "      <td>1</td>\n",
       "    </tr>\n",
       "    <tr>\n",
       "      <th>70</th>\n",
       "      <td>S/P MOTORCYCLE ACCIDENT</td>\n",
       "      <td>EMERGENCY</td>\n",
       "      <td>1</td>\n",
       "    </tr>\n",
       "    <tr>\n",
       "      <th>72</th>\n",
       "      <td>SEIZURE;STATUS EPILEPTICUS</td>\n",
       "      <td>EMERGENCY</td>\n",
       "      <td>1</td>\n",
       "    </tr>\n",
       "    <tr>\n",
       "      <th>76</th>\n",
       "      <td>SEPSIS;TELEMETRY</td>\n",
       "      <td>EMERGENCY</td>\n",
       "      <td>1</td>\n",
       "    </tr>\n",
       "    <tr>\n",
       "      <th>77</th>\n",
       "      <td>SHORTNESS OF BREATH</td>\n",
       "      <td>EMERGENCY</td>\n",
       "      <td>1</td>\n",
       "    </tr>\n",
       "    <tr>\n",
       "      <th>78</th>\n",
       "      <td>STATUS POST MOTOR VEHICLE ACCIDENT WITH INJURIES</td>\n",
       "      <td>EMERGENCY</td>\n",
       "      <td>1</td>\n",
       "    </tr>\n",
       "    <tr>\n",
       "      <th>79</th>\n",
       "      <td>STEMI;</td>\n",
       "      <td>EMERGENCY</td>\n",
       "      <td>1</td>\n",
       "    </tr>\n",
       "    <tr>\n",
       "      <th>80</th>\n",
       "      <td>STROKE/TIA</td>\n",
       "      <td>EMERGENCY</td>\n",
       "      <td>1</td>\n",
       "    </tr>\n",
       "    <tr>\n",
       "      <th>81</th>\n",
       "      <td>SUBDURAL HEMATOMA/S/P FALL</td>\n",
       "      <td>EMERGENCY</td>\n",
       "      <td>1</td>\n",
       "    </tr>\n",
       "    <tr>\n",
       "      <th>84</th>\n",
       "      <td>TACHYPNEA;TELEMETRY</td>\n",
       "      <td>EMERGENCY</td>\n",
       "      <td>1</td>\n",
       "    </tr>\n",
       "    <tr>\n",
       "      <th>86</th>\n",
       "      <td>TRACHEAL STENOSIS</td>\n",
       "      <td>EMERGENCY</td>\n",
       "      <td>1</td>\n",
       "    </tr>\n",
       "    <tr>\n",
       "      <th>88</th>\n",
       "      <td>UPPER GI BLEED</td>\n",
       "      <td>EMERGENCY</td>\n",
       "      <td>1</td>\n",
       "    </tr>\n",
       "    <tr>\n",
       "      <th>93</th>\n",
       "      <td>VF ARREST</td>\n",
       "      <td>URGENT</td>\n",
       "      <td>1</td>\n",
       "    </tr>\n",
       "    <tr>\n",
       "      <th>34</th>\n",
       "      <td>HEPATIC ENCEP</td>\n",
       "      <td>EMERGENCY</td>\n",
       "      <td>1</td>\n",
       "    </tr>\n",
       "    <tr>\n",
       "      <th>47</th>\n",
       "      <td>LOWER GI BLEED</td>\n",
       "      <td>EMERGENCY</td>\n",
       "      <td>1</td>\n",
       "    </tr>\n",
       "    <tr>\n",
       "      <th>94</th>\n",
       "      <td>VOLVULUS</td>\n",
       "      <td>EMERGENCY</td>\n",
       "      <td>1</td>\n",
       "    </tr>\n",
       "    <tr>\n",
       "      <th>24</th>\n",
       "      <td>CRITICAL AORTIC STENOSIS/HYPOTENSION</td>\n",
       "      <td>EMERGENCY</td>\n",
       "      <td>1</td>\n",
       "    </tr>\n",
       "    <tr>\n",
       "      <th>16</th>\n",
       "      <td>CEREBROVASCULAR ACCIDENT</td>\n",
       "      <td>EMERGENCY</td>\n",
       "      <td>1</td>\n",
       "    </tr>\n",
       "    <tr>\n",
       "      <th>12</th>\n",
       "      <td>BASAL GANGLIN BLEED</td>\n",
       "      <td>EMERGENCY</td>\n",
       "      <td>1</td>\n",
       "    </tr>\n",
       "    <tr>\n",
       "      <th>9</th>\n",
       "      <td>AROMEGLEY;BURKITTS LYMPHOMA</td>\n",
       "      <td>EMERGENCY</td>\n",
       "      <td>1</td>\n",
       "    </tr>\n",
       "    <tr>\n",
       "      <th>8</th>\n",
       "      <td>ALTERED MENTAL STATUS</td>\n",
       "      <td>EMERGENCY</td>\n",
       "      <td>1</td>\n",
       "    </tr>\n",
       "    <tr>\n",
       "      <th>21</th>\n",
       "      <td>CHRONIC MYELOGENOUS LEUKEMIA;TRANSFUSION REACTION</td>\n",
       "      <td>EMERGENCY</td>\n",
       "      <td>1</td>\n",
       "    </tr>\n",
       "    <tr>\n",
       "      <th>7</th>\n",
       "      <td>ALCOHOLIC HEPATITIS</td>\n",
       "      <td>EMERGENCY</td>\n",
       "      <td>1</td>\n",
       "    </tr>\n",
       "    <tr>\n",
       "      <th>2</th>\n",
       "      <td>ACUTE CHOLANGITIS</td>\n",
       "      <td>EMERGENCY</td>\n",
       "      <td>1</td>\n",
       "    </tr>\n",
       "    <tr>\n",
       "      <th>3</th>\n",
       "      <td>ACUTE CHOLECYSTITIS</td>\n",
       "      <td>EMERGENCY</td>\n",
       "      <td>0</td>\n",
       "    </tr>\n",
       "    <tr>\n",
       "      <th>75</th>\n",
       "      <td>SEPSIS;PNEUMONIA;TELEMETRY</td>\n",
       "      <td>EMERGENCY</td>\n",
       "      <td>0</td>\n",
       "    </tr>\n",
       "    <tr>\n",
       "      <th>64</th>\n",
       "      <td>RENAL CANCER/SDA</td>\n",
       "      <td>ELECTIVE</td>\n",
       "      <td>0</td>\n",
       "    </tr>\n",
       "    <tr>\n",
       "      <th>65</th>\n",
       "      <td>RENAL FAILIURE-SYNCOPE-HYPERKALEMIA</td>\n",
       "      <td>EMERGENCY</td>\n",
       "      <td>0</td>\n",
       "    </tr>\n",
       "  </tbody>\n",
       "</table>\n",
       "</div>"
      ],
      "text/plain": [
       "                                            diagnosis admission_type  \\\n",
       "22                           CONGESTIVE HEART FAILURE      EMERGENCY   \n",
       "46                                      LIVER FAILURE      EMERGENCY   \n",
       "73                                             SEPSIS      EMERGENCY   \n",
       "30                                              FEVER      EMERGENCY   \n",
       "0                                      ABDOMINAL PAIN      EMERGENCY   \n",
       "71                                            SEIZURE      EMERGENCY   \n",
       "35                                        HEPATITIS B      EMERGENCY   \n",
       "39                                        HYPOTENSION      EMERGENCY   \n",
       "43                INFERIOR MYOCARDIAL INFARCTION\\CATH      EMERGENCY   \n",
       "48                    LUNG CANCER;SHORTNESS OF BREATH      EMERGENCY   \n",
       "51                           METASTIC MELANOMA;ANEMIA      EMERGENCY   \n",
       "60                                PNEUMONIA;TELEMETRY      EMERGENCY   \n",
       "68                                           S/P FALL      EMERGENCY   \n",
       "70                            S/P MOTORCYCLE ACCIDENT      EMERGENCY   \n",
       "72                         SEIZURE;STATUS EPILEPTICUS      EMERGENCY   \n",
       "76                                   SEPSIS;TELEMETRY      EMERGENCY   \n",
       "77                                SHORTNESS OF BREATH      EMERGENCY   \n",
       "78   STATUS POST MOTOR VEHICLE ACCIDENT WITH INJURIES      EMERGENCY   \n",
       "79                                             STEMI;      EMERGENCY   \n",
       "80                                         STROKE/TIA      EMERGENCY   \n",
       "81                         SUBDURAL HEMATOMA/S/P FALL      EMERGENCY   \n",
       "84                                TACHYPNEA;TELEMETRY      EMERGENCY   \n",
       "86                                  TRACHEAL STENOSIS      EMERGENCY   \n",
       "88                                     UPPER GI BLEED      EMERGENCY   \n",
       "93                                          VF ARREST         URGENT   \n",
       "34                                      HEPATIC ENCEP      EMERGENCY   \n",
       "47                                     LOWER GI BLEED      EMERGENCY   \n",
       "94                                           VOLVULUS      EMERGENCY   \n",
       "24               CRITICAL AORTIC STENOSIS/HYPOTENSION      EMERGENCY   \n",
       "16                           CEREBROVASCULAR ACCIDENT      EMERGENCY   \n",
       "12                                BASAL GANGLIN BLEED      EMERGENCY   \n",
       "9                         AROMEGLEY;BURKITTS LYMPHOMA      EMERGENCY   \n",
       "8                               ALTERED MENTAL STATUS      EMERGENCY   \n",
       "21  CHRONIC MYELOGENOUS LEUKEMIA;TRANSFUSION REACTION      EMERGENCY   \n",
       "7                                 ALCOHOLIC HEPATITIS      EMERGENCY   \n",
       "2                                   ACUTE CHOLANGITIS      EMERGENCY   \n",
       "3                                 ACUTE CHOLECYSTITIS      EMERGENCY   \n",
       "75                         SEPSIS;PNEUMONIA;TELEMETRY      EMERGENCY   \n",
       "64                                   RENAL CANCER/SDA       ELECTIVE   \n",
       "65                RENAL FAILIURE-SYNCOPE-HYPERKALEMIA      EMERGENCY   \n",
       "\n",
       "    no_of_deaths  \n",
       "22             2  \n",
       "46             2  \n",
       "73             2  \n",
       "30             2  \n",
       "0              1  \n",
       "71             1  \n",
       "35             1  \n",
       "39             1  \n",
       "43             1  \n",
       "48             1  \n",
       "51             1  \n",
       "60             1  \n",
       "68             1  \n",
       "70             1  \n",
       "72             1  \n",
       "76             1  \n",
       "77             1  \n",
       "78             1  \n",
       "79             1  \n",
       "80             1  \n",
       "81             1  \n",
       "84             1  \n",
       "86             1  \n",
       "88             1  \n",
       "93             1  \n",
       "34             1  \n",
       "47             1  \n",
       "94             1  \n",
       "24             1  \n",
       "16             1  \n",
       "12             1  \n",
       "9              1  \n",
       "8              1  \n",
       "21             1  \n",
       "7              1  \n",
       "2              1  \n",
       "3              0  \n",
       "75             0  \n",
       "64             0  \n",
       "65             0  "
      ]
     },
     "execution_count": 268,
     "metadata": {},
     "output_type": "execute_result"
    }
   ],
   "source": [
    "admpt.groupby(['diagnosis', 'admission_type']).agg({'hospital_expire_flag': 'sum'}).reset_index().sort_values(by='hospital_expire_flag', ascending=False).rename({'hospital_expire_flag':'no_of_deaths'}, axis=1).head(40)"
   ]
  },
  {
   "cell_type": "markdown",
   "id": "1c106de6",
   "metadata": {},
   "source": [
    "### Insights:\n",
    "- Most of the deaths happened with the admission type Emergency.\n",
    "- Congestive heart failure, liver failure, sepsis and fever has the highest number of deaths of 2 in each. "
   ]
  },
  {
   "cell_type": "markdown",
   "id": "32db5e37",
   "metadata": {},
   "source": [
    "## Correlations between Patient Demographics and Mortality Rates"
   ]
  },
  {
   "cell_type": "markdown",
   "id": "cc6d6875",
   "metadata": {},
   "source": [
    "### Gender vs Mortality rates"
   ]
  },
  {
   "cell_type": "code",
   "execution_count": 271,
   "id": "119693f9",
   "metadata": {},
   "outputs": [
    {
     "data": {
      "image/png": "[encoded data removed]",
      "text/plain": [
       "<Figure size 640x480 with 1 Axes>"
      ]
     },
     "metadata": {},
     "output_type": "display_data"
    }
   ],
   "source": [
    "# Visualize mortality rates by gender\n",
    "sns.countplot(data=admpt, x=\"gender\", hue=\"hospital_expire_flag\")\n",
    "plt.title(\"Mortality Rates by Gender\")\n",
    "plt.show()"
   ]
  },
  {
   "cell_type": "code",
   "execution_count": 285,
   "id": "645a64d8",
   "metadata": {},
   "outputs": [
    {
     "name": "stdout",
     "output_type": "stream",
     "text": [
      "Chi-square p-value for gender and mortality: 0.3993917889521913\n"
     ]
    }
   ],
   "source": [
    "# Chi-square test for gender and mortality\n",
    "gender_mortality_contingency = pd.crosstab(admpt[\"gender\"], admpt[\"hospital_expire_flag\"])\n",
    "chi2, p, _, _ = chi2_contingency(gender_mortality_contingency)\n",
    "print(\"Chi-square p-value for gender and mortality:\", p)"
   ]
  },
  {
   "cell_type": "markdown",
   "id": "9fd89406",
   "metadata": {},
   "source": [
    "### Insights:\n",
    "- A p-value of 0.39 suggests that there is no significant association between gender and mortality rates"
   ]
  },
  {
   "cell_type": "code",
   "execution_count": 274,
   "id": "b4b9fe3d",
   "metadata": {},
   "outputs": [
    {
     "data": {
      "image/png": "[encoded data removed]",
      "text/plain": [
       "<Figure size 640x480 with 1 Axes>"
      ]
     },
     "metadata": {},
     "output_type": "display_data"
    }
   ],
   "source": [
    "# Explore mortality rates by age group\n",
    "sns.histplot(data=admpt, x=\"agegroup\", hue=\"hospital_expire_flag\", kde=True)\n",
    "plt.title(\"Mortality Rates by Age Group\")\n",
    "plt.show()"
   ]
  },
  {
   "cell_type": "code",
   "execution_count": 291,
   "id": "fb158eb8",
   "metadata": {},
   "outputs": [
    {
     "name": "stdout",
     "output_type": "stream",
     "text": [
      "Chi-square p-value for age group and mortality: 0.055517169568212364\n"
     ]
    }
   ],
   "source": [
    "agegroup_mortality_contingency = pd.crosstab(admpt[\"agegroup\"], admpt[\"hospital_expire_flag\"])\n",
    "chi2, p, _, _ = chi2_contingency(agegroup_mortality_contingency)\n",
    "print(\"Chi-square p-value for age group and mortality:\", p)"
   ]
  },
  {
   "cell_type": "markdown",
   "id": "dbba1fc5",
   "metadata": {},
   "source": [
    "### Insights:\n",
    "- A chi-square p-value of 0.0555 suggests that there is a borderline significant association between age group and mortality rates."
   ]
  },
  {
   "cell_type": "code",
   "execution_count": 295,
   "id": "8fa11cdb",
   "metadata": {},
   "outputs": [
    {
     "data": {
      "image/png": "[encoded data removed]",
      "text/plain": [
       "<Figure size 640x480 with 1 Axes>"
      ]
     },
     "metadata": {},
     "output_type": "display_data"
    }
   ],
   "source": [
    "# Visualize mortality rates by ethicity\n",
    "sns.countplot(data=admpt, x=\"ethnicity\", hue=\"hospital_expire_flag\")\n",
    "plt.title(\"Mortality Rates by Ethnicity\")\n",
    "plt.xticks(rotation=90)\n",
    "plt.show()"
   ]
  },
  {
   "cell_type": "code",
   "execution_count": 296,
   "id": "d8ea308f",
   "metadata": {},
   "outputs": [
    {
     "name": "stdout",
     "output_type": "stream",
     "text": [
      "Chi-square p-value for ethnicity and mortality: 0.11675823784989112\n"
     ]
    }
   ],
   "source": [
    "ethnicity_mortality_contingency = pd.crosstab(admpt[\"ethnicity\"], admpt[\"hospital_expire_flag\"])\n",
    "chi2, p, _, _ = chi2_contingency(ethnicity_mortality_contingency)\n",
    "print(\"Chi-square p-value for ethnicity and mortality:\", p)"
   ]
  },
  {
   "cell_type": "markdown",
   "id": "9a50a460",
   "metadata": {},
   "source": [
    "### Insights:\n",
    "- A chi-square p-value of 0.1168 suggests that there is no significant association between ethnicity and mortality rates."
   ]
  },
  {
   "cell_type": "markdown",
   "id": "914a69df",
   "metadata": {},
   "source": [
    "## Overall Insights:\n",
    "\n",
    "### Patient Demographics:\n",
    "1. The patient population comprises 54% males and 46% females.\n",
    "2. Age Distribution: 34% of the patients are aged over 80, 25% belong to the 61-70 age group, and 20% fall within the 71-80 age range.\n",
    "3. Ethnicity: A significant majority (86 patients) are identified as White.\n",
    "4. Marital Status: 60 patients are married, 26 are single, and 15 are widowed.\n",
    "\n",
    "### Patient Admissions:\n",
    "1. The dataset includes information on 100 unique patients.\n",
    "2. A notable observation is the variability in hospital admissions among these patients; one patient was admitted 15 times, two patients were admitted three times each, eleven patients were admitted twice, and the remaining patients had a single admission.\n",
    "\n",
    "### ICD-9 Codes Usage:\n",
    "1. From a total of 14,567 ICD-9 codes available, only 580 distinct codes are utilized in the dataset.\n",
    "2. The most frequently recorded ICD-9 code is 4019, documented 53 times. The other common codes include 42731, 5849, 4280, and 51881, highlighting prevalent health issues related to heart and kidney diseases.\n",
    "\n",
    "### Admission Types:\n",
    "1. The overwhelming majority of admissions (92%) were categorized as emergency, indicating urgent and unplanned medical care. Only 6% were elective, and 2% were urgent admissions.\n",
    "\n",
    "### Length of Stay:\n",
    "1. A patient diagnosed with Facial Numbness had the longest hospital stay of 123 days, associated with 36 different ICD-9 codes.\n",
    "2. The second-longest stay was 39 days for a patient with the diagnosis ESOPHAGEAL CA/SDA.\n",
    "\n",
    "### Mortality Rates and Admission Types:\n",
    "1. Most in-hospital deaths occurred under emergency admissions.\n",
    "2. Specific conditions such as congestive heart failure, liver failure, sepsis, and fever each recorded two deaths, indicating critical areas of concern.\n",
    "\n",
    "### Statistical Associations:\n",
    "1. Gender does not show a significant association with mortality rates (p-value: 0.39).\n",
    "2. There is a borderline significant association between age groups and mortality rates (p-value: 0.0555).\n",
    "3. No significant association was found between ethnicity and mortality rates (p-value: 0.1168).\n",
    "\n",
    "## Recommendations:\n",
    "\n",
    "### Focus on High-Risk Conditions:\n",
    "- Implement targeted interventions for conditions frequently leading to readmissions (e.g., heart and kidney diseases), aiming to improve patient outcomes and reduce the burden on healthcare resources.\n",
    "\n",
    "### Enhance Emergency Care:\n",
    "- Given the high percentage of emergency admissions, enhancing emergency department efficiency and response times could potentially reduce mortality rates and improve patient care.\n",
    "\n",
    "### Monitor and Support Frequent Admitters:\n",
    "- Develop specialized care plans for patients with multiple admissions to manage their conditions more effectively, possibly involving more rigorous follow-up routines and outpatient support.\n",
    "\n",
    "### Address Age-Specific Needs:\n",
    "- Considering the borderline significance of age with mortality rates, develop age-specific medical protocols to better address the unique needs of different age groups.\n"
   ]
  },
  {
   "cell_type": "code",
   "execution_count": null,
   "id": "f4178cbb",
   "metadata": {},
   "outputs": [],
   "source": []
  }
 ],
 "metadata": {
  "kernelspec": {
   "display_name": "Python 3 (ipykernel)",
   "language": "python",
   "name": "python3"
  },
  "language_info": {
   "codemirror_mode": {
    "name": "ipython",
    "version": 3
   },
   "file_extension": ".py",
   "mimetype": "text/x-python",
   "name": "python",
   "nbconvert_exporter": "python",
   "pygments_lexer": "ipython3",
   "version": "3.11.9"
  }
 },
 "nbformat": 4,
 "nbformat_minor": 5
}
